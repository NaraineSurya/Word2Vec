{
 "cells": [
  {
   "cell_type": "code",
   "execution_count": 1,
   "metadata": {},
   "outputs": [],
   "source": [
    "import nltk\n",
    "from gensim.models import Word2Vec, KeyedVectors\n",
    "import pandas as pd"
   ]
  },
  {
   "cell_type": "code",
   "execution_count": 5,
   "metadata": {},
   "outputs": [],
   "source": [
    "model = KeyedVectors.load_word2vec_format('GoogleNews-vectors-negative300.bin', binary=True , limit=100000)"
   ]
  },
  {
   "cell_type": "code",
   "execution_count": 9,
   "metadata": {},
   "outputs": [
    {
     "data": {
      "text/plain": [
       "0.76640123"
      ]
     },
     "execution_count": 9,
     "metadata": {},
     "output_type": "execute_result"
    }
   ],
   "source": [
    "model.similarity('woman', 'man')"
   ]
  },
  {
   "cell_type": "code",
   "execution_count": 11,
   "metadata": {},
   "outputs": [
    {
     "data": {
      "text/plain": [
       "[('kings', 0.7138045430183411),\n",
       " ('queen', 0.6510956883430481),\n",
       " ('monarch', 0.6413194537162781),\n",
       " ('crown_prince', 0.6204220056533813),\n",
       " ('prince', 0.6159993410110474),\n",
       " ('sultan', 0.5864824056625366),\n",
       " ('ruler', 0.5797567367553711),\n",
       " ('princes', 0.5646552443504333),\n",
       " ('throne', 0.5422105193138123),\n",
       " ('royal', 0.5239794254302979),\n",
       " ('kingdom', 0.5210405588150024),\n",
       " ('princess', 0.5161998867988586),\n",
       " ('King', 0.5158917903900146),\n",
       " ('emperor', 0.5083796977996826),\n",
       " ('monarchy', 0.4929794371128082),\n",
       " ('royal_palace', 0.49247992038726807),\n",
       " ('Crown_Prince', 0.49117735028266907),\n",
       " ('palace', 0.4878290593624115),\n",
       " ('queens', 0.47384950518608093),\n",
       " ('monarchs', 0.4711732566356659)]"
      ]
     },
     "execution_count": 11,
     "metadata": {},
     "output_type": "execute_result"
    }
   ],
   "source": [
    "model.most_similar('king', topn=20)"
   ]
  },
  {
   "cell_type": "code",
   "execution_count": 15,
   "metadata": {},
   "outputs": [
    {
     "data": {
      "text/plain": [
       "[('woman', 0.7186801433563232),\n",
       " ('man', 0.6557512283325195),\n",
       " ('girl', 0.5882835388183594),\n",
       " ('lady', 0.5754351615905762),\n",
       " ('teenage_girl', 0.5700528025627136),\n",
       " ('teenager', 0.5378326177597046),\n",
       " ('schoolgirl', 0.497780978679657),\n",
       " ('policewoman', 0.49065014719963074),\n",
       " ('blonde', 0.4870774745941162),\n",
       " ('redhead', 0.4778464436531067),\n",
       " ('brunette', 0.47622987627983093),\n",
       " ('queen', 0.4648558497428894),\n",
       " ('Woman', 0.4636137783527374),\n",
       " ('her', 0.45765507221221924),\n",
       " ('she', 0.45581990480422974),\n",
       " ('person', 0.4503220319747925),\n",
       " ('ladies', 0.4497724771499634),\n",
       " ('boy', 0.44854536652565),\n",
       " ('lass', 0.4440508186817169),\n",
       " ('businesswoman', 0.4432317018508911)]"
      ]
     },
     "execution_count": 15,
     "metadata": {},
     "output_type": "execute_result"
    }
   ],
   "source": [
    "vec = model['man'] - model['king'] + model['queen']\n",
    "model.most_similar(vec, topn = 20)"
   ]
  },
  {
   "cell_type": "code",
   "execution_count": 21,
   "metadata": {},
   "outputs": [
    {
     "data": {
      "text/plain": [
       "[('MS_Dhoni', 0.6324138045310974),\n",
       " ('Mahendra_Singh_Dhoni', 0.5014485120773315),\n",
       " ('Ronaldinho', 0.4760165512561798),\n",
       " ('Dhoni', 0.47535547614097595),\n",
       " ('Kaka', 0.4698767364025116),\n",
       " ('Cristiano_Ronaldo', 0.46467864513397217),\n",
       " ('Football', 0.46388089656829834),\n",
       " ('Ronaldo', 0.4614403545856476),\n",
       " ('Didier_Drogba', 0.4568723440170288),\n",
       " ('Totti', 0.4540054500102997),\n",
       " ('Sachin_Tendulkar', 0.45258021354675293),\n",
       " ('Andrea_Pirlo', 0.45116448402404785),\n",
       " ('Michael_Ballack', 0.4483506381511688),\n",
       " ('Carlo_Ancelotti', 0.446109414100647),\n",
       " ('Wayne_Rooney', 0.4457955062389374),\n",
       " ('Francesco_Totti', 0.4429827034473419),\n",
       " ('Messi', 0.4398806691169739),\n",
       " ('Pirlo', 0.4387863576412201),\n",
       " ('Gary_Neville', 0.4385818541049957),\n",
       " ('Paul_Scholes', 0.43474945425987244)]"
      ]
     },
     "execution_count": 21,
     "metadata": {},
     "output_type": "execute_result"
    }
   ],
   "source": [
    "vec = model['MS_Dhoni'] - model['Cricket'] + model['Football']\n",
    "model.most_similar(vec, topn = 20)"
   ]
  },
  {
   "cell_type": "code",
   "execution_count": null,
   "metadata": {},
   "outputs": [],
   "source": []
  }
 ],
 "metadata": {
  "kernelspec": {
   "display_name": "base",
   "language": "python",
   "name": "python3"
  },
  "language_info": {
   "codemirror_mode": {
    "name": "ipython",
    "version": 3
   },
   "file_extension": ".py",
   "mimetype": "text/x-python",
   "name": "python",
   "nbconvert_exporter": "python",
   "pygments_lexer": "ipython3",
   "version": "3.11.4"
  }
 },
 "nbformat": 4,
 "nbformat_minor": 2
}
